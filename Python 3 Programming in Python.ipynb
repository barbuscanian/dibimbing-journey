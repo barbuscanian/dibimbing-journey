{
  "nbformat": 4,
  "nbformat_minor": 0,
  "metadata": {
    "colab": {
      "provenance": []
    },
    "kernelspec": {
      "name": "python3",
      "display_name": "Python 3"
    },
    "language_info": {
      "name": "python"
    }
  },
  "cells": [
    {
      "cell_type": "markdown",
      "source": [
        "# **Python 3 | Hands on Programming in Python**"
      ],
      "metadata": {
        "id": "-idRCwIO5Cwm"
      }
    },
    {
      "cell_type": "markdown",
      "source": [
        "Buatlah sebuah program untuk menghitung luas n bangun datar yang terdiri dari (Untuk nilai angka bebas):\n",
        "*   Persegi\n",
        "*   Persegi panjang\n",
        "*   Segitiga\n",
        "*   Lingkaran (gunakan 3.14 untuk nilai pi)\n",
        "*   Trapesium"
      ],
      "metadata": {
        "id": "6PfL_zS35Vmd"
      }
    },
    {
      "cell_type": "code",
      "source": [
        "import math\n",
        "\n",
        "class BangunDatar:\n",
        "    def __init__(self, nama):\n",
        "        self.nama = nama\n",
        "\n",
        "    def hitung_luas(self):\n",
        "        pass\n",
        "\n",
        "class Persegi(BangunDatar):\n",
        "    def __init__(self, sisi):\n",
        "        super().__init__(\"Persegi\")\n",
        "        self.sisi = sisi\n",
        "\n",
        "    def hitung_luas(self):\n",
        "        return self.sisi * self.sisi\n",
        "\n",
        "class PersegiPanjang(BangunDatar):\n",
        "    def __init__(self, panjang, lebar):\n",
        "        super().__init__(\"Persegi Panjang\")\n",
        "        self.panjang = panjang\n",
        "        self.lebar = lebar\n",
        "\n",
        "    def hitung_luas(self):\n",
        "        return self.panjang * self.lebar\n",
        "\n",
        "class Segitiga(BangunDatar):\n",
        "    def __init__(self, alas, tinggi):\n",
        "        super().__init__(\"Segitiga\")\n",
        "        self.alas = alas\n",
        "        self.tinggi = tinggi\n",
        "\n",
        "    def hitung_luas(self):\n",
        "        return 0.5 * self.alas * self.tinggi\n",
        "\n",
        "class Lingkaran(BangunDatar):\n",
        "    def __init__(self, jari_jari):\n",
        "        super().__init__(\"Lingkaran\")\n",
        "        self.jari_jari = jari_jari\n",
        "\n",
        "    def hitung_luas(self):\n",
        "        return math.pi * self.jari_jari * self.jari_jari\n",
        "\n",
        "class Trapesium(BangunDatar):\n",
        "    def __init__(self, sisi_atas, sisi_bawah, tinggi):\n",
        "        super().__init__(\"Trapesium\")\n",
        "        self.sisi_atas = sisi_atas\n",
        "        self.sisi_bawah = sisi_bawah\n",
        "        self.tinggi = tinggi\n",
        "\n",
        "    def hitung_luas(self):\n",
        "        return 0.5 * (self.sisi_atas + self.sisi_bawah) * self.tinggi"
      ],
      "metadata": {
        "id": "-uVTFbP54lVE"
      },
      "execution_count": 4,
      "outputs": []
    },
    {
      "cell_type": "markdown",
      "source": [
        "Permintaan masukan harus disesuaikan dengan bangun datar yang akan dihitung luasnya, e.g. jika persegi, maka program hanya akan meminta satu masukan, i.e. sisi. Setelah didapatkan n luas bangun datar, urutkan luas bangun datar dari terkecil hingga terbesar dan hitung total luas bangun datar tersebut!"
      ],
      "metadata": {
        "id": "WKgeVz535txZ"
      }
    },
    {
      "cell_type": "code",
      "source": [
        "# Input dari pengguna\n",
        "persegi = Persegi(float(input(\"Masukkan panjang sisi persegi: \")))\n",
        "persegi_panjang = PersegiPanjang(float(input(\"Masukkan panjang persegi panjang: \")), float(input(\"Masukkan lebar persegi panjang: \")))\n",
        "segitiga = Segitiga(float(input(\"Masukkan alas segitiga: \")), float(input(\"Masukkan tinggi segitiga: \")))\n",
        "lingkaran = Lingkaran(float(input(\"Masukkan jari-jari lingkaran: \")))\n",
        "trapesium = Trapesium(float(input(\"Masukkan panjang sisi atas trapesium: \")), float(input(\"Masukkan panjang sisi bawah trapesium: \")), float(input(\"Masukkan tinggi trapesium: \")))\n",
        "\n",
        "# Menghitung luas masing-masing bangun datar\n",
        "list_bangun_datar = [persegi, persegi_panjang, segitiga, lingkaran, trapesium]\n",
        "list_luas = [bangun_datar.hitung_luas() for bangun_datar in list_bangun_datar]\n",
        "\n",
        "# Mengurutkan dan menghitung total luas\n",
        "sorted_data = sorted(zip(list_bangun_datar, list_luas), key=lambda x: x[1])\n",
        "sorted_bangun_datar, sorted_luas = zip(*sorted_data)\n",
        "\n",
        "print(\"\\nLuas Bangun Datar (diurutkan dari terkecil hingga terbesar):\")\n",
        "for i, (bangun_datar, luas) in enumerate(zip(sorted_bangun_datar, sorted_luas), start=1):\n",
        "    print(f\"{i}. {bangun_datar.nama}: {luas}\")\n",
        "\n",
        "total_luas = sum(sorted_luas)\n",
        "print(f\"\\nTotal Luas Bangun Datar: {total_luas}\")"
      ],
      "metadata": {
        "colab": {
          "base_uri": "https://localhost:8080/"
        },
        "id": "VJGJdNYe4v3H",
        "outputId": "ed0aaa2a-8e12-46e5-bbcc-153efa14379b"
      },
      "execution_count": 5,
      "outputs": [
        {
          "output_type": "stream",
          "name": "stdout",
          "text": [
            "Masukkan panjang sisi persegi: 4\n",
            "Masukkan panjang persegi panjang: 12\n",
            "Masukkan lebar persegi panjang: 6\n",
            "Masukkan alas segitiga: 3\n",
            "Masukkan tinggi segitiga: 7\n",
            "Masukkan jari-jari lingkaran: 12\n",
            "Masukkan panjang sisi atas trapesium: 5\n",
            "Masukkan panjang sisi bawah trapesium: 10\n",
            "Masukkan tinggi trapesium: 12\n",
            "\n",
            "Luas Bangun Datar (diurutkan dari terkecil hingga terbesar):\n",
            "1. Segitiga: 10.5\n",
            "2. Persegi: 16.0\n",
            "3. Persegi Panjang: 72.0\n",
            "4. Trapesium: 90.0\n",
            "5. Lingkaran: 452.3893421169302\n",
            "\n",
            "Total Luas Bangun Datar: 640.8893421169303\n"
          ]
        }
      ]
    }
  ]
}