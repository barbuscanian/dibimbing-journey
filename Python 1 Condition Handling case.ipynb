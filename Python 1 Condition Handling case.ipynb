{
  "nbformat": 4,
  "nbformat_minor": 0,
  "metadata": {
    "colab": {
      "provenance": []
    },
    "kernelspec": {
      "name": "python3",
      "display_name": "Python 3"
    },
    "language_info": {
      "name": "python"
    }
  },
  "cells": [
    {
      "cell_type": "markdown",
      "source": [
        "## **Python 1 | Hands on Condition Handling case**"
      ],
      "metadata": {
        "id": "6OsEBa8gtM9z"
      }
    },
    {
      "cell_type": "markdown",
      "source": [
        "**Assignment 1**\n",
        "\n",
        "Write a program to change vocal word (\"a,i,u,e,o\") into \"a\" .Example:\n",
        "\n",
        "Input:\n",
        "\n",
        "lirik = \"balonku ada lima\"\n",
        "\n",
        "Output:\n",
        "\n",
        "\"balanka ada lama\""
      ],
      "metadata": {
        "id": "x58FM2hytGnD"
      }
    },
    {
      "cell_type": "code",
      "source": [
        "vocals = \"a,i,u,e,o\"\n",
        "hasil = \"\"\n",
        "text = input(\"masukkan text :\")\n",
        "for char in text :\n",
        "  if char in vocals:\n",
        "    hasil += 'a'\n",
        "  else :\n",
        "    hasil += char\n",
        "\n",
        "\n",
        "print(\"hasil : \" + hasil)"
      ],
      "metadata": {
        "colab": {
          "base_uri": "https://localhost:8080/"
        },
        "id": "b5c8Pi02LuCi",
        "outputId": "7b59b423-ece7-472b-ed0e-8121565fd8ad"
      },
      "execution_count": null,
      "outputs": [
        {
          "output_type": "stream",
          "name": "stdout",
          "text": [
            "masukkan text :balonku ada lima\n",
            "hasil : balanka ada lama\n"
          ]
        }
      ]
    },
    {
      "cell_type": "markdown",
      "source": [
        "**Assignment 2**\n",
        "\n",
        "Write a program to check student attendance. A student will not be allowed to sit an exam if his/her attendance is less than 75%. Example:\n",
        "\n",
        "Input:\n",
        "\n",
        "Class_held = 20\n",
        "\n",
        "Student = [“Asnawi”, “Haaland”, “Hazard”, “Maudy Ayunan”,  “Marselino”, “Dembele”]\n",
        "\n",
        "Class_attended = [18, 19, 10, 20, 17, 13]\n",
        "\n",
        "Output:\n",
        "\n",
        "Kehadiran asnawi lebih dari 75%, dapat mengikuti ujian cunin\n",
        "\n",
        "Kehadiran hazard kurang dari 75%, tidak dapat mengikuti ujian cunin\n",
        "\n",
        "Kehadiran dembele kurang dari 75%, tidak dapat mengikuti ujian cunin\n",
        "\n"
      ],
      "metadata": {
        "id": "Yq1yyoR4tUhX"
      }
    },
    {
      "cell_type": "code",
      "source": [
        "def check_attendance(class_held, students, class_attended):\n",
        "    for i in range(len(students)):\n",
        "        attendance_percentage = (class_attended[i] / class_held) * 100\n",
        "\n",
        "        if attendance_percentage >= 75:\n",
        "            print(f\"Kehadiran {students[i]} lebih dari 75%, dapat mengikuti ujian cunin\")\n",
        "        else:\n",
        "            print(f\"Kehadiran {students[i]} kurang dari 75%, tidak dapat mengikuti ujian cunin\")\n",
        "\n",
        "# Example input\n",
        "Class_held = int(input(\"Enter the number of students: \"))\n",
        "Num_students = int(input(\"Enter the name of student \"))\n",
        "\n",
        "Students = []\n",
        "Class_attended = []\n",
        "\n",
        "for i in range(Num_students):\n",
        "    student_name = input(f\"Name of student-{i + 1}: \")\n",
        "    attendance = int(input(f\"Enter the attendance for {student_name}: \"))\n",
        "\n",
        "    Students.append(student_name)\n",
        "    Class_attended.append(attendance)\n",
        "\n",
        "# Check attendance\n",
        "check_attendance(Class_held, Students, Class_attended)\n"
      ],
      "metadata": {
        "colab": {
          "base_uri": "https://localhost:8080/"
        },
        "id": "hwmc2b2XuuYM",
        "outputId": "3ee1d63f-4aaa-41db-a9ca-39c45f8e8135"
      },
      "execution_count": null,
      "outputs": [
        {
          "output_type": "stream",
          "name": "stdout",
          "text": [
            "Enter the number of students: 20\n",
            "Enter the name of student 6\n",
            "Name of student-1: Asnawi\n",
            "Enter the attendance for Asnawi: 18\n",
            "Name of student-2: Haaland\n",
            "Enter the attendance for Haaland: 19\n",
            "Name of student-3: Hazard\n",
            "Enter the attendance for Hazard: 10\n",
            "Name of student-4: Maudy Ayunan\n",
            "Enter the attendance for Maudy Ayunan: 20\n",
            "Name of student-5: Marselino\n",
            "Enter the attendance for Marselino: 17\n",
            "Name of student-6: Dembele\n",
            "Enter the attendance for Dembele: 13\n",
            "Kehadiran Asnawi lebih dari 75%, dapat mengikuti ujian cunin\n",
            "Kehadiran Haaland lebih dari 75%, dapat mengikuti ujian cunin\n",
            "Kehadiran Hazard kurang dari 75%, tidak dapat mengikuti ujian cunin\n",
            "Kehadiran Maudy Ayunan lebih dari 75%, dapat mengikuti ujian cunin\n",
            "Kehadiran Marselino lebih dari 75%, dapat mengikuti ujian cunin\n",
            "Kehadiran Dembele kurang dari 75%, tidak dapat mengikuti ujian cunin\n"
          ]
        }
      ]
    }
  ]
}