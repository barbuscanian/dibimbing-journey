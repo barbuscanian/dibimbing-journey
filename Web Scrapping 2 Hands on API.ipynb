{
 "cells": [
  {
   "cell_type": "code",
   "execution_count": 17,
   "metadata": {},
   "outputs": [],
   "source": [
    "import time\n",
    "from selenium import webdriver\n",
    "from bs4 import BeautifulSoup\n",
    "import pandas as pd\n"
   ]
  },
  {
   "cell_type": "code",
   "execution_count": 2,
   "metadata": {},
   "outputs": [],
   "source": [
    "driver = webdriver.Chrome()\n",
    "driver.get(\"https://shop.googlemerchandisestore.com/Google+Redesign/Women+Techmakers+Tote\")\n",
    "\n",
    "time.sleep(30)"
   ]
  },
  {
   "cell_type": "code",
   "execution_count": 3,
   "metadata": {},
   "outputs": [],
   "source": [
    "html = driver.page_source\n",
    "\n",
    "soup = BeautifulSoup(html, \"html.parser\")\n"
   ]
  },
  {
   "cell_type": "code",
   "execution_count": 6,
   "metadata": {},
   "outputs": [
    {
     "name": "stdout",
     "output_type": "stream",
     "text": [
      "Women Techmakers Tote\n"
     ]
    }
   ],
   "source": [
    "item_title = soup.find(\"h3\", class_=\"itemTitle\").text\n",
    "print(item_title)"
   ]
  },
  {
   "cell_type": "code",
   "execution_count": 7,
   "metadata": {},
   "outputs": [
    {
     "name": "stdout",
     "output_type": "stream",
     "text": [
      "8\n"
     ]
    }
   ],
   "source": [
    "price1 = soup.select_one('ul.item-pricing-dark span:nth-of-type(2)').text\n",
    "print(price1)\n"
   ]
  },
  {
   "cell_type": "code",
   "execution_count": 8,
   "metadata": {},
   "outputs": [
    {
     "name": "stdout",
     "output_type": "stream",
     "text": [
      "00\n"
     ]
    }
   ],
   "source": [
    "price2 = soup.select_one('#_priceCent_0').text\n",
    "print(price2)\n"
   ]
  },
  {
   "cell_type": "code",
   "execution_count": 9,
   "metadata": {},
   "outputs": [
    {
     "name": "stdout",
     "output_type": "stream",
     "text": [
      "8.00\n"
     ]
    }
   ],
   "source": [
    "price_final = \"{}.{}\".format(price1, price2)\n",
    "print(price_final)\n"
   ]
  },
  {
   "cell_type": "code",
   "execution_count": 10,
   "metadata": {},
   "outputs": [
    {
     "name": "stdout",
     "output_type": "stream",
     "text": [
      "1-855-300-2945\n"
     ]
    }
   ],
   "source": [
    "contact = soup.select_one('div.col-sm-6:nth-of-type(1) span.indent10').text\n",
    "print(contact)\n"
   ]
  },
  {
   "cell_type": "code",
   "execution_count": 23,
   "metadata": {},
   "outputs": [
    {
     "name": "stdout",
     "output_type": "stream",
     "text": [
      "https://shop.googlemerchandisestore.com/Google+Redesign/Women+Techmakers+Totestore/20160512512/assets/items/images/GGCOGBJK215199.jpg?scale.width=460\n"
     ]
    }
   ],
   "source": [
    "current_source = soup.select_one('img[src*=\"store/20160512512/assets/items/images/GGCOGBJK215199.jpg?scale.width=460\"]').get('src')\n",
    "base_url = \"https://shop.googlemerchandisestore.com/Google+Redesign/Women+Techmakers+Tote\"\n",
    "full_url = base_url + current_source\n",
    "print(full_url)\n"
   ]
  },
  {
   "cell_type": "code",
   "execution_count": 15,
   "metadata": {},
   "outputs": [
    {
     "name": "stdout",
     "output_type": "stream",
     "text": [
      "GGCOGBJK215199\n"
     ]
    }
   ],
   "source": [
    "SKU = soup.select_one('.card-panel #details  p:nth-child(2)').text\n",
    "SKU = SKU.replace('SKU: ', '')\n",
    "print(SKU)"
   ]
  },
  {
   "cell_type": "code",
   "execution_count": 16,
   "metadata": {},
   "outputs": [
    {
     "name": "stdout",
     "output_type": "stream",
     "text": [
      "\n",
      "This classic cotton convention tote is a perfect option for tradeshows, conventions, or everyday use. It's washable and the 12\" handle drop makes the bag easy to carry.\n",
      "Material: Cotton Canvas\n",
      "Easily washable\n",
      "Bright color accent straps\n",
      "12\" drop handles\n",
      "16\"x14\"\n",
      "\n"
     ]
    }
   ],
   "source": [
    "\n",
    "details = soup.select_one('.card-panel div:nth-child(4)').text\n",
    "print(details)"
   ]
  },
  {
   "cell_type": "code",
   "execution_count": 18,
   "metadata": {},
   "outputs": [
    {
     "name": "stdout",
     "output_type": "stream",
     "text": [
      "                    Name Price         Contact  \\\n",
      "0  Women Techmakers Tote  8.00  1-855-300-2945   \n",
      "\n",
      "                                        Image Source             SKU  \\\n",
      "0  store/20160512512/assets/items/images/GGCOGBJK...  GGCOGBJK215199   \n",
      "\n",
      "                                             Details  \n",
      "0  \\nThis classic cotton convention tote is a per...  \n"
     ]
    }
   ],
   "source": [
    "data = {\n",
    "    'Name': [item_title],\n",
    "    'Price': [price_final],\n",
    "    'Contact': [contact],\n",
    "    'Image Source': [img_source],\n",
    "    'SKU': [SKU],\n",
    "    'Details': [details]\n",
    "}\n",
    "\n",
    "df = pd.DataFrame(data)\n",
    "\n",
    "# Display the DataFrame\n",
    "print(df)"
   ]
  }
 ],
 "metadata": {
  "kernelspec": {
   "display_name": "Python 3",
   "language": "python",
   "name": "python3"
  },
  "language_info": {
   "codemirror_mode": {
    "name": "ipython",
    "version": 3
   },
   "file_extension": ".py",
   "mimetype": "text/x-python",
   "name": "python",
   "nbconvert_exporter": "python",
   "pygments_lexer": "ipython3",
   "version": "3.10.10"
  }
 },
 "nbformat": 4,
 "nbformat_minor": 2
}
